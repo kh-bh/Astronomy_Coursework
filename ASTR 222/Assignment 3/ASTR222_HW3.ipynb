{
 "cells": [
  {
   "cell_type": "markdown",
   "metadata": {},
   "source": [
    "## Assignment 3"
   ]
  },
  {
   "cell_type": "code",
   "execution_count": 41,
   "metadata": {},
   "outputs": [],
   "source": [
    "import numpy as np"
   ]
  },
  {
   "cell_type": "markdown",
   "metadata": {},
   "source": [
    "#### Problem 1"
   ]
  },
  {
   "cell_type": "code",
   "execution_count": 42,
   "metadata": {},
   "outputs": [],
   "source": [
    "#Galaxy Creation\n",
    "\n",
    "#Step 1, Find B and V absolute magnitude\n",
    "def step1(Mv, BV_color):\n",
    "    \"\"\"\n",
    "    Finds the M_B absolute magnitude using the equation Mb = Mv + (B-V)\n",
    "    Inputs:\n",
    "        Mv: Magnitude in V band (given)\n",
    "        BV_color: Color (B-V)\n",
    "    Returns:\n",
    "        The Mb magnitude\n",
    "    \"\"\"\n",
    "    return Mv + BV_color"
   ]
  },
  {
   "cell_type": "code",
   "execution_count": 43,
   "metadata": {},
   "outputs": [],
   "source": [
    "#Step 2, calculate the B and V luminosities in Lb and Lv of each star type using the abs mag of Sun\n",
    "MB_sun = 5.48\n",
    "MV_sun = 4.8 \n",
    "\n",
    "def step2_B(Mb_star):\n",
    "    \"\"\"\n",
    "    Finds the B luminosity of the star using absolute magnitudes\n",
    "    Inputs:\n",
    "        MB: Magnitude in B band (given) \n",
    "    Returns:\n",
    "        The lumimosity in the B band\n",
    "    \"\"\"\n",
    "    return 10**(-(MB_sun - Mb_star) / 2.5)\n",
    "\n",
    "def step2_V(Mv_star):\n",
    "    \"\"\"\n",
    "    Finds the B luminosity of the star using absolute magnitudes\n",
    "    Inputs:\n",
    "        MB: Magnitude in B band (given) \n",
    "    Returns:\n",
    "        The lumimosity in the B band\n",
    "    \"\"\"\n",
    "    return 10**(-(MV_sun - Mv_star) / 2.5)"
   ]
  },
  {
   "cell_type": "code",
   "execution_count": 44,
   "metadata": {},
   "outputs": [],
   "source": [
    "#Step 3, Given the Lv total of the galaxy and the fraction of light, figure out the total V light of each star type\n",
    "def step3(fv, LV_total = 1e10):\n",
    "    \"\"\"\n",
    "    Finds the total V light of each star type\n",
    "    Inputs:\n",
    "        fv: the fraction of V light coming from the star\n",
    "        LV_total: the total luminosity of the galaxy (V band) (1e10)\n",
    "    Returns:\n",
    "        The total V band luminosity of the star type\n",
    "    \"\"\"\n",
    "    return fv * LV_total"
   ]
  },
  {
   "cell_type": "code",
   "execution_count": 45,
   "metadata": {},
   "outputs": [],
   "source": [
    "#Step 4, Work out how many stars are needed for each galaxy\n",
    "def step4(LV_total, LV_star):\n",
    "    \"\"\"\n",
    "    Finds the number of stars for each of the star types are needed for luminosity\n",
    "    Inputs:\n",
    "        LV_total: The total luminosity of the star type in the galaxy\n",
    "        LV_star: The luminosity of ONE star\n",
    "    Returns:\n",
    "        The number of stars of this type in the galaxy\n",
    "    \"\"\"\n",
    "    return LV_total / LV_star"
   ]
  },
  {
   "cell_type": "code",
   "execution_count": 46,
   "metadata": {},
   "outputs": [],
   "source": [
    "#Step 5, a) find the total stellar mass by adding up all the masses, b) calculate the V band mass-to-light ratio\n",
    "def step5a(N_star, mass_star):\n",
    "    \"\"\"\n",
    "    Mass of the all the stars (of this type)\n",
    "    Inputs:\n",
    "        N_star: The total number of this type of star\n",
    "        mass_star: The mass of ONE star\n",
    "    Returns:\n",
    "        Mass\n",
    "    \"\"\"\n",
    "    return N_star * mass_star\n",
    "\n",
    "def step5b(N_star, mass_star, LV_total = 1e10):\n",
    "    \"\"\"\n",
    "    Finds the mass-to-light ratio\n",
    "    Inputs:\n",
    "        M_star_total: The mass of the total stars (of this type) in the galaxy\n",
    "        LV_total: The total V-band mass to light ratio\n",
    "    Returns:\n",
    "        The mass to light ratio of the V band of this star type in this galaxy\n",
    "    \"\"\"\n",
    "    return step5a(N_star, mass_star) / LV_total"
   ]
  },
  {
   "cell_type": "code",
   "execution_count": 47,
   "metadata": {},
   "outputs": [],
   "source": [
    "#Star 1 Calculations\n",
    "mass_star1 = 2\n",
    "MV_star1 = 1.3\n",
    "BV_color_star1 = 0.05\n",
    "MB_star1 = step1(MV_star1,BV_color_star1)\n",
    "L_B_star1 = step2_B(MB_star1)\n",
    "L_V_star1 = step2_V(MV_star1)"
   ]
  },
  {
   "cell_type": "code",
   "execution_count": 48,
   "metadata": {},
   "outputs": [],
   "source": [
    "#Star 2 Calculations\n",
    "mass_star2 = 1\n",
    "MV_star2 = 4.8\n",
    "BV_color_star2 = 0.65\n",
    "MB_star2 = step1(MV_star2,BV_color_star2)\n",
    "L_B_star2 = step2_B(MB_star2)\n",
    "L_V_star2 = step2_V(MV_star2)"
   ]
  },
  {
   "cell_type": "code",
   "execution_count": 49,
   "metadata": {},
   "outputs": [],
   "source": [
    "#Star 3 Calculations\n",
    "mass_star3 = 0.67\n",
    "MV_star3 = 7.35\n",
    "BV_color_star3 = 1.15\n",
    "MB_star3 = step1(MV_star3, BV_color_star3)\n",
    "L_B_star3 = step2_B(MB_star3)\n",
    "L_V_star3 = step2_V(MV_star3)"
   ]
  },
  {
   "cell_type": "code",
   "execution_count": 50,
   "metadata": {},
   "outputs": [],
   "source": [
    "#Star 4 Calculations\n",
    "mass_star4 = 1.1\n",
    "MV_star4 = 0.5\n",
    "BV_color_star4 = 1.16\n",
    "MB_star4 = step1(MV_star4, BV_color_star4)\n",
    "L_B_star4 = step2_B(MB_star4)\n",
    "L_V_star4 = step2_V(MV_star4)"
   ]
  },
  {
   "cell_type": "code",
   "execution_count": 51,
   "metadata": {},
   "outputs": [],
   "source": [
    "#ALL galaxies have the same luminosity\n",
    "LV_total = 1e10"
   ]
  },
  {
   "cell_type": "code",
   "execution_count": null,
   "metadata": {},
   "outputs": [
    {
     "name": "stdout",
     "output_type": "stream",
     "text": [
      "Star 1: \n",
      "The total luminosity in the V band was 1500000000.0 solar luminosity      \n",
      "The number of these stars is 251188643150.95795      \n",
      " The total mass of the stars is 502377286301.9159 Solar mass      \n",
      "The mass-light ratio in the V band of this star is 50.23772863019159 solar mass/solar luminosity      \n",
      "\n"
     ]
    }
   ],
   "source": [
    "#Galaxy 1 Calculations:\n",
    "\n",
    "#Star type 1, 15%\n",
    "g1_s1_fv = 0.15\n",
    "\n",
    "g1_s1_LV_total = step3(g1_s1_fv, LV_total)\n",
    "g1_s1_num = step4(LV_total, L_V_star1)\n",
    "g1_star1_mass_tot = step5a(g1_s1_num, mass_star1)\n",
    "g1_star1_ml_ratio = step5b(g1_s1_num, mass_star1)\n",
    "\n",
    "\n",
    "print(\"Star {}: \\nThe total luminosity in the V band was {} solar luminosity\\\n",
    "      \\nThe number of these stars is {}\\\n",
    "      \\n The total mass of the stars is {} Solar mass\\\n",
    "      \\nThe mass-light ratio in the V band of this star is {} solar mass/solar luminosity\\\n",
    "      \\n\".format(1, g1_s1_LV_total, g1_s1_num, g1_star1_mass_tot, g1_star1_ml_ratio))\n",
    "\n"
   ]
  }
 ],
 "metadata": {
  "kernelspec": {
   "display_name": ".venv",
   "language": "python",
   "name": "python3"
  },
  "language_info": {
   "codemirror_mode": {
    "name": "ipython",
    "version": 3
   },
   "file_extension": ".py",
   "mimetype": "text/x-python",
   "name": "python",
   "nbconvert_exporter": "python",
   "pygments_lexer": "ipython3",
   "version": "3.12.7"
  }
 },
 "nbformat": 4,
 "nbformat_minor": 2
}
